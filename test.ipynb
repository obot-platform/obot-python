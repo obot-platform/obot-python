{
 "cells": [
  {
   "cell_type": "code",
   "execution_count": 1,
   "metadata": {},
   "outputs": [],
   "source": [
    "from obot.sync_client import ObotClient\n",
    "\n",
    "client = ObotClient(base_url=\"http://localhost:8080\", token=\"your-token\")\n"
   ]
  },
  {
   "cell_type": "markdown",
   "metadata": {},
   "source": [
    "### Tools"
   ]
  },
  {
   "cell_type": "code",
   "execution_count": null,
   "metadata": {},
   "outputs": [],
   "source": [
    "# List all categories\n",
    "categories = client.tools.categories()\n",
    "print(\"Available categories:\", categories)"
   ]
  },
  {
   "cell_type": "code",
   "execution_count": null,
   "metadata": {},
   "outputs": [],
   "source": [
    "# List all tools in a specific category\n",
    "slack_tools = client.tools(category=\"Slack\")\n",
    "for tool in slack_tools:\n",
    "    print(f\"Slack tool: {tool.name}\")"
   ]
  },
  {
   "cell_type": "code",
   "execution_count": null,
   "metadata": {},
   "outputs": [],
   "source": [
    "# List all tools\n",
    "all_tools = client.tools()\n",
    "all_tools"
   ]
  },
  {
   "cell_type": "markdown",
   "metadata": {},
   "source": [
    "---\n",
    "\n",
    "### Models"
   ]
  },
  {
   "cell_type": "code",
   "execution_count": 2,
   "metadata": {},
   "outputs": [
    {
     "data": {
      "text/plain": [
       "[ModelProvider(id='anthropic-bedrock-model-provider', name='Anthropic on AWS Bedrock', type='modelprovider', created='2025-03-08T18:16:42-08:00', revision='13092', icon='/admin/assets/anthropic_bedrock_icon.svg', toolReference='../enterprise-tools/anthropic-bedrock-model-provider', configured=False, requiredConfigurationParameters=[ConfigurationParameter(name='OBOT_ANTHROPIC_BEDROCK_MODEL_PROVIDER_ACCESS_KEY_ID', description='AWS Access Key ID', sensitive=False, documentation_url=None), ConfigurationParameter(name='OBOT_ANTHROPIC_BEDROCK_MODEL_PROVIDER_SECRET_ACCESS_KEY', description='AWS Secret Access Key', sensitive=True, documentation_url=None), ConfigurationParameter(name='OBOT_ANTHROPIC_BEDROCK_MODEL_PROVIDER_REGION', description='AWS Region - make sure that the models you want to use are available in this region: https://docs.aws.amazon.com/bedrock/latest/userguide/models-regions.html', sensitive=False, documentation_url=None), ConfigurationParameter(name='OBOT_ANTHROPIC_BEDROCK_MODEL_PROVIDER_SESSION_TOKEN', description='AWS Session Token', sensitive=True, documentation_url=None)], missingConfigurationParameters=['OBOT_ANTHROPIC_BEDROCK_MODEL_PROVIDER_ACCESS_KEY_ID', 'OBOT_ANTHROPIC_BEDROCK_MODEL_PROVIDER_SECRET_ACCESS_KEY', 'OBOT_ANTHROPIC_BEDROCK_MODEL_PROVIDER_REGION', 'OBOT_ANTHROPIC_BEDROCK_MODEL_PROVIDER_SESSION_TOKEN'], optionalConfigurationParameters=None, modelsBackPopulated=None),\n",
       " ModelProvider(id='azure-openai-model-provider', name='Azure OpenAI', type='modelprovider', created='2025-03-08T18:16:42-08:00', revision='13118', icon='/admin/assets/azure_openai_icon.svg', toolReference='../enterprise-tools/azure-openai-model-provider', configured=False, requiredConfigurationParameters=[ConfigurationParameter(name='OBOT_AZURE_OPENAI_MODEL_PROVIDER_ENDPOINT', description='Endpoint for the Azure OpenAI service (e.g. https://<resource-name>.<region>.api.cognitive.microsoft.com/)', sensitive=False, documentation_url=None), ConfigurationParameter(name='OBOT_AZURE_OPENAI_MODEL_PROVIDER_CLIENT_ID', description='Unique identifier for the application when using Azure Active Directory. Can typically be found in App Registrations > [application].', sensitive=False, documentation_url=None), ConfigurationParameter(name='OBOT_AZURE_OPENAI_MODEL_PROVIDER_CLIENT_SECRET', description='Password or key that app uses to authenticate with Azure Active Directory. Can typically be found in App Registrations > [application] > Certificates & Secrets', sensitive=True, documentation_url=None), ConfigurationParameter(name='OBOT_AZURE_OPENAI_MODEL_PROVIDER_TENANT_ID', description='Identifier of instance where the app and resources reside. Can typically be found in Azure Active Directory > Overview > Directory ID', sensitive=False, documentation_url=None), ConfigurationParameter(name='OBOT_AZURE_OPENAI_MODEL_PROVIDER_SUBSCRIPTION_ID', description=\"Identifier of user's Azure subscription. Can typically be found in Azure Portal > Subscriptions > Overview.\", sensitive=False, documentation_url=None), ConfigurationParameter(name='OBOT_AZURE_OPENAI_MODEL_PROVIDER_RESOURCE_GROUP', description='Container that holds related Azure resources. Can typically be found in Azure Portal > Resource Groups > [OpenAI Resource Group] > Overview', sensitive=False, documentation_url=None)], missingConfigurationParameters=['OBOT_AZURE_OPENAI_MODEL_PROVIDER_ENDPOINT', 'OBOT_AZURE_OPENAI_MODEL_PROVIDER_CLIENT_ID', 'OBOT_AZURE_OPENAI_MODEL_PROVIDER_CLIENT_SECRET', 'OBOT_AZURE_OPENAI_MODEL_PROVIDER_TENANT_ID', 'OBOT_AZURE_OPENAI_MODEL_PROVIDER_SUBSCRIPTION_ID', 'OBOT_AZURE_OPENAI_MODEL_PROVIDER_RESOURCE_GROUP'], optionalConfigurationParameters=[ConfigurationParameter(name='OBOT_AZURE_OPENAI_MODEL_PROVIDER_API_VERSION', description='Azure OpenAI API Version', sensitive=False, documentation_url=None)], modelsBackPopulated=None),\n",
       " ModelProvider(id='deepseek-model-provider', name='DeepSeek', type='modelprovider', created='2025-03-07T15:04:27-08:00', revision='13135', icon='/admin/assets/deepseek-logo.svg', toolReference='../tools/deepseek-model-provider', configured=False, requiredConfigurationParameters=[ConfigurationParameter(name='OBOT_DEEPSEEK_MODEL_PROVIDER_API_KEY', description='DeepSeek API Key. Can be created and fetched from https://platform.deepseek.com/api_keys', sensitive=True, documentation_url=None)], missingConfigurationParameters=['OBOT_DEEPSEEK_MODEL_PROVIDER_API_KEY'], optionalConfigurationParameters=None, modelsBackPopulated=None),\n",
       " ModelProvider(id='anthropic-model-provider', name='Anthropic', type='modelprovider', created='2025-03-07T15:04:27-08:00', revision='13161', icon='/admin/assets/anthropic_icon.svg', toolReference='../tools/anthropic-model-provider', configured=True, requiredConfigurationParameters=[ConfigurationParameter(name='OBOT_ANTHROPIC_MODEL_PROVIDER_API_KEY', description='Anthropic API Key', sensitive=True, documentation_url=None)], missingConfigurationParameters=None, optionalConfigurationParameters=None, modelsBackPopulated=True),\n",
       " ModelProvider(id='gemini-vertex-model-provider', name='Google Gemini Vertex AI Model Provider', type='modelprovider', created='2025-03-08T18:16:42-08:00', revision='13167', icon='/admin/assets/gemini_icon.svg', toolReference='../enterprise-tools/gemini-vertex-model-provider', configured=True, requiredConfigurationParameters=[ConfigurationParameter(name='OBOT_GEMINI_VERTEX_MODEL_PROVIDER_GOOGLE_CREDENTIALS_JSON', description='Google Cloud Account Credentials - JSON File Contents: https://cloud.google.com/iam/docs/keys-create-delete#creating', sensitive=True, documentation_url=None)], missingConfigurationParameters=None, optionalConfigurationParameters=[ConfigurationParameter(name='OBOT_GEMINI_VERTEX_MODEL_PROVIDER_GOOGLE_CLOUD_PROJECT', description='Google Cloud Project ID', sensitive=False, documentation_url=None), ConfigurationParameter(name='OBOT_GEMINI_VERTEX_MODEL_PROVIDER_GOOGLE_CLOUD_LOCATION', description='Google Cloud Location', sensitive=False, documentation_url=None)], modelsBackPopulated=True),\n",
       " ModelProvider(id='generic-openai-model-provider', name='OpenAI Compatible Generic Provider', type='modelprovider', created='2025-03-07T15:04:27-08:00', revision='13175', icon='/admin/assets/obot_openai_antenna_icon.png', toolReference='../tools/generic-openai-model-provider', configured=False, requiredConfigurationParameters=[ConfigurationParameter(name='OBOT_GENERIC_OPENAI_MODEL_PROVIDER_BASE_URL', description='Base URL for the OpenAI-compatible API, e.g. http://localhost:1234/v1 for LM-Studio.', sensitive=False, documentation_url=None)], missingConfigurationParameters=['OBOT_GENERIC_OPENAI_MODEL_PROVIDER_BASE_URL'], optionalConfigurationParameters=[ConfigurationParameter(name='OBOT_GENERIC_OPENAI_MODEL_PROVIDER_API_KEY', description=\"API Key for the OpenAI-compatible API. Some providers like Ollama don't enforce Authentication, so this is optional.\", sensitive=True, documentation_url=None)], modelsBackPopulated=None),\n",
       " ModelProvider(id='groq-model-provider', name='Groq', type='modelprovider', created='2025-03-07T15:04:28-08:00', revision='13334', icon='https://www.groq.com/logo.svg', toolReference='../tools/groq-model-provider', configured=False, requiredConfigurationParameters=[ConfigurationParameter(name='OBOT_GROQ_MODEL_PROVIDER_API_KEY', description='Groq API Key. Can be created and fetched from https://console.groq.com/keys', sensitive=True, documentation_url=None)], missingConfigurationParameters=['OBOT_GROQ_MODEL_PROVIDER_API_KEY'], optionalConfigurationParameters=None, modelsBackPopulated=None),\n",
       " ModelProvider(id='ollama-model-provider', name='Ollama', type='modelprovider', created='2025-03-07T15:04:28-08:00', revision='13408', icon='https://ollama.com/public/ollama.png', toolReference='../tools/ollama-model-provider', configured=False, requiredConfigurationParameters=[ConfigurationParameter(name='OBOT_OLLAMA_MODEL_PROVIDER_HOST', description='Ollama Server Address (e.g. my.ollama.local:11434)', sensitive=False, documentation_url=None)], missingConfigurationParameters=['OBOT_OLLAMA_MODEL_PROVIDER_HOST'], optionalConfigurationParameters=None, modelsBackPopulated=None),\n",
       " ModelProvider(id='vllm-model-provider', name='vLLM', type='modelprovider', created='2025-03-07T15:04:28-08:00', revision='13594', icon='/admin/assets/vllm-logo.svg', toolReference='../tools/vllm-model-provider', configured=False, requiredConfigurationParameters=[ConfigurationParameter(name='OBOT_VLLM_MODEL_PROVIDER_ENDPOINT', description='Endpoint for the vLLM OpenAI service (eg. http://localhost:8000)', sensitive=False, documentation_url=None)], missingConfigurationParameters=['OBOT_VLLM_MODEL_PROVIDER_ENDPOINT'], optionalConfigurationParameters=[ConfigurationParameter(name='OBOT_VLLM_MODEL_PROVIDER_API_KEY', description='VLLM API Key set when starting the vLLM server', sensitive=True, documentation_url=None)], modelsBackPopulated=None),\n",
       " ModelProvider(id='voyage-model-provider', name='Voyage', type='modelprovider', created='2025-03-07T15:04:28-08:00', revision='13595', icon='https://www.voyageai.com/logo.svg', toolReference='../tools/voyage-model-provider', configured=False, requiredConfigurationParameters=[ConfigurationParameter(name='OBOT_VOYAGE_MODEL_PROVIDER_API_KEY', description='Voyage AI API Key', sensitive=True, documentation_url=None)], missingConfigurationParameters=['OBOT_VOYAGE_MODEL_PROVIDER_API_KEY'], optionalConfigurationParameters=None, modelsBackPopulated=None),\n",
       " ModelProvider(id='xai-model-provider', name='xAI', type='modelprovider', created='2025-03-07T15:04:28-08:00', revision='13667', icon='/admin/assets/xai-logo.svg', toolReference='../tools/xai-model-provider', configured=False, requiredConfigurationParameters=[ConfigurationParameter(name='OBOT_XAI_MODEL_PROVIDER_API_KEY', description='xAI API Key', sensitive=True, documentation_url=None)], missingConfigurationParameters=['OBOT_XAI_MODEL_PROVIDER_API_KEY'], optionalConfigurationParameters=None, modelsBackPopulated=None),\n",
       " ModelProvider(id='openai-model-provider', name='OpenAI', type='modelprovider', created='2025-03-07T15:04:28-08:00', revision='13679', icon='https://cdn.jsdelivr.net/npm/@phosphor-icons/core@2/assets/duotone/open-ai-logo-duotone.svg', toolReference='../tools/openai-model-provider', configured=True, requiredConfigurationParameters=[ConfigurationParameter(name='OBOT_OPENAI_MODEL_PROVIDER_API_KEY', description='OpenAI API Key. Can be created and fetched from https://platform.openai.com/settings/organization/api-keys or https://platform.openai.com/api-keys', sensitive=True, documentation_url=None)], missingConfigurationParameters=None, optionalConfigurationParameters=None, modelsBackPopulated=True)]"
      ]
     },
     "execution_count": 2,
     "metadata": {},
     "output_type": "execute_result"
    }
   ],
   "source": [
    "# List all model providers\n",
    "client.models.providers()"
   ]
  },
  {
   "cell_type": "code",
   "execution_count": 3,
   "metadata": {},
   "outputs": [
    {
     "data": {
      "text/plain": [
       "[ModelProvider(id='anthropic-model-provider', name='Anthropic', type='modelprovider', created='2025-03-07T15:04:27-08:00', revision='13161', icon='/admin/assets/anthropic_icon.svg', toolReference='../tools/anthropic-model-provider', configured=True, requiredConfigurationParameters=[ConfigurationParameter(name='OBOT_ANTHROPIC_MODEL_PROVIDER_API_KEY', description='Anthropic API Key', sensitive=True, documentation_url=None)], missingConfigurationParameters=None, optionalConfigurationParameters=None, modelsBackPopulated=True),\n",
       " ModelProvider(id='gemini-vertex-model-provider', name='Google Gemini Vertex AI Model Provider', type='modelprovider', created='2025-03-08T18:16:42-08:00', revision='13167', icon='/admin/assets/gemini_icon.svg', toolReference='../enterprise-tools/gemini-vertex-model-provider', configured=True, requiredConfigurationParameters=[ConfigurationParameter(name='OBOT_GEMINI_VERTEX_MODEL_PROVIDER_GOOGLE_CREDENTIALS_JSON', description='Google Cloud Account Credentials - JSON File Contents: https://cloud.google.com/iam/docs/keys-create-delete#creating', sensitive=True, documentation_url=None)], missingConfigurationParameters=None, optionalConfigurationParameters=[ConfigurationParameter(name='OBOT_GEMINI_VERTEX_MODEL_PROVIDER_GOOGLE_CLOUD_PROJECT', description='Google Cloud Project ID', sensitive=False, documentation_url=None), ConfigurationParameter(name='OBOT_GEMINI_VERTEX_MODEL_PROVIDER_GOOGLE_CLOUD_LOCATION', description='Google Cloud Location', sensitive=False, documentation_url=None)], modelsBackPopulated=True),\n",
       " ModelProvider(id='openai-model-provider', name='OpenAI', type='modelprovider', created='2025-03-07T15:04:28-08:00', revision='13679', icon='https://cdn.jsdelivr.net/npm/@phosphor-icons/core@2/assets/duotone/open-ai-logo-duotone.svg', toolReference='../tools/openai-model-provider', configured=True, requiredConfigurationParameters=[ConfigurationParameter(name='OBOT_OPENAI_MODEL_PROVIDER_API_KEY', description='OpenAI API Key. Can be created and fetched from https://platform.openai.com/settings/organization/api-keys or https://platform.openai.com/api-keys', sensitive=True, documentation_url=None)], missingConfigurationParameters=None, optionalConfigurationParameters=None, modelsBackPopulated=True)]"
      ]
     },
     "execution_count": 3,
     "metadata": {},
     "output_type": "execute_result"
    }
   ],
   "source": [
    "client.models.providers(configured=True)"
   ]
  },
  {
   "cell_type": "code",
   "execution_count": null,
   "metadata": {},
   "outputs": [],
   "source": [
    "# List all models\n",
    "all_models = client.models()\n",
    "len(all_models)"
   ]
  },
  {
   "cell_type": "code",
   "execution_count": null,
   "metadata": {},
   "outputs": [],
   "source": [
    "# List active models from a specific provider\n",
    "active_openai_models = client.models(model_provider=\"xai-model-provider\", active=True)\n",
    "\n",
    "active_openai_models"
   ]
  },
  {
   "cell_type": "markdown",
   "metadata": {},
   "source": [
    "---\n",
    "\n",
    "### Agents"
   ]
  },
  {
   "cell_type": "code",
   "execution_count": 4,
   "metadata": {},
   "outputs": [
    {
     "data": {
      "text/plain": [
       "[Agent(name='Obot', description='Default Assistant', prompt='You are an AI assistant named Obot, developed by Acorn Labs. You are described as follows:\\n\\nObot is a conversational AI assistant that can help an end user with a variety of tasks by using tools, reading/writing\\nfiles in the workspace, and querying its knowledge database. The user interacting with Obot is doing so through a chat\\ninterface and can ask questions and view or edit the files in the workspace. The user also has a graphical editor to\\nmodify the files in the workspace. Obot collaborates with the user on the files in the workspace.\\n', model='', tools=['workspace-files', 'time', 'knowledge', 'database', 'tasks'], id='a1-obot', created='2025-03-07T15:04:27-08:00', revision='10', links=AgentLinks(invoke='http://localhost:8080/api/invoke/obot'), type='agent', icons=AgentIcons(icon='/user/images/obot-icon-blue.svg', iconDark='/user/images/obot-icon-blue.svg', collapsed='/user/images/obot-logo-blue-black-text.svg', collapsedDark='/user/images/obot-logo-blue-white-text.svg'), default=True, temperature=None, cache=None, alias='obot', knowledgeDescription='', agents=None, workflows=None, availableThreadTools=None, defaultThreadTools=['images-bundle', 'google-search-bundle'], oauthApps=None, maxThreadTools=0, params=None, env=None, aliasAssigned=True, toolInfo={'database': {'authorized': True}, 'google-search-bundle': {'authorized': True}, 'images-bundle': {'authorized': True}, 'knowledge': {'authorized': True}, 'tasks': {'authorized': True}, 'time': {'authorized': True}, 'workspace-files': {'authorized': True}}),\n",
       " Agent(name='Slushy Pork', description='', prompt='', model='m1-anthropic-model-provider-afc6dcfc4a3e5286cc8d0180bf63a-4f90b', tools=['threads', 'firecrawl'], id='a1plkzh', created='2025-03-07T15:05:52-08:00', revision='42', links=AgentLinks(invoke='http://localhost:8080/api/invoke/a1plkzh'), type='agent', icons=None, default=False, temperature=None, cache=None, alias='', knowledgeDescription='', agents=None, workflows=None, availableThreadTools=[], defaultThreadTools=[], oauthApps=[], maxThreadTools=0, params=None, env=None, aliasAssigned=False, toolInfo={'firecrawl': {'credentialNames': ['firecrawl'], 'authorized': False}, 'threads': {'authorized': True}}),\n",
       " Agent(name='Website Researcher', description='', prompt='You are a thorough webpage researcher. You are provided with the content of a webpage and a user query. Analyze the webpage content to extract or answer the query comprehensively. If the information is missing, state that it is not available. \\nProvide a detailed response that includes:\\n- All relevant facts and information from the webpage that address the query\\n- Specific details such as names, dates, places, prices, specifications, statistics, or measurements when available\\n- Direct quotes from the source material when relevant (always in quotation marks)\\n- Context and background information that helps understand the answer\\n- Comparisons, categories, or relationships mentioned on the webpage\\n- Any notable achievements, milestones, or turning points relevant to the query\\n\\nVery important: Include all relevant links from the webpage that relate to your answer. For each link you mention, include both the link text and the full URL in markdown format: [link text](URL).\\n\\nOrganize your response with:\\n- A clear introduction summarizing the key points\\n- Logical headings and subheadings that break down the information\\n- Bullet points or numbered lists for easy readability\\n- Tables for comparative data when appropriate\\n- A conclusion or summary section when the topic warrants it\\n\\nTailor your response based on content type:\\n- For people: Include biographical details, timeline of key events, relationships, achievements, and formative experiences\\n- For products/shopping: Include prices, features, specifications, availability, reviews, and alternatives\\n- For news: Include key events, dates, people involved, causes, effects, and background context\\n- For sports: Include scores, statistics, player information, game/match details, and historical context\\n- For technical content: Include steps, requirements, compatibility information, and code examples if present\\n- For historical topics: Include chronology, key figures, causes and effects, and significance\\n\\nBe very verbose and thorough as your report will be used by downstream tools to extract information. Return your answer in clear markdown format with any references to the source page as needed.', model='', tools=['firecrawl', 'threads', 'time'], id='a1t4dsh', created='2025-03-08T18:26:23-08:00', revision='68', links=AgentLinks(invoke='http://localhost:8080/api/invoke/a1t4dsh'), type='agent', icons=None, default=False, temperature=None, cache=None, alias='', knowledgeDescription='', agents=None, workflows=None, availableThreadTools=[], defaultThreadTools=[], oauthApps=[], maxThreadTools=0, params=None, env=None, aliasAssigned=False, toolInfo={'firecrawl': {'credentialNames': ['firecrawl'], 'authorized': True}, 'threads': {'authorized': True}, 'time': {'authorized': True}})]"
      ]
     },
     "execution_count": 4,
     "metadata": {},
     "output_type": "execute_result"
    }
   ],
   "source": [
    "all_agents = client.agents()\n",
    "all_agents"
   ]
  },
  {
   "cell_type": "code",
   "execution_count": 7,
   "metadata": {},
   "outputs": [
    {
     "data": {
      "text/plain": [
       "Agent(name='Website Researcher', description='', prompt='You are a thorough webpage researcher. You are provided with the content of a webpage and a user query. Analyze the webpage content to extract or answer the query comprehensively. If the information is missing, state that it is not available. \\nProvide a detailed response that includes:\\n- All relevant facts and information from the webpage that address the query\\n- Specific details such as names, dates, places, prices, specifications, statistics, or measurements when available\\n- Direct quotes from the source material when relevant (always in quotation marks)\\n- Context and background information that helps understand the answer\\n- Comparisons, categories, or relationships mentioned on the webpage\\n- Any notable achievements, milestones, or turning points relevant to the query\\n\\nVery important: Include all relevant links from the webpage that relate to your answer. For each link you mention, include both the link text and the full URL in markdown format: [link text](URL).\\n\\nOrganize your response with:\\n- A clear introduction summarizing the key points\\n- Logical headings and subheadings that break down the information\\n- Bullet points or numbered lists for easy readability\\n- Tables for comparative data when appropriate\\n- A conclusion or summary section when the topic warrants it\\n\\nTailor your response based on content type:\\n- For people: Include biographical details, timeline of key events, relationships, achievements, and formative experiences\\n- For products/shopping: Include prices, features, specifications, availability, reviews, and alternatives\\n- For news: Include key events, dates, people involved, causes, effects, and background context\\n- For sports: Include scores, statistics, player information, game/match details, and historical context\\n- For technical content: Include steps, requirements, compatibility information, and code examples if present\\n- For historical topics: Include chronology, key figures, causes and effects, and significance\\n\\nBe very verbose and thorough as your report will be used by downstream tools to extract information. Return your answer in clear markdown format with any references to the source page as needed.', model='', tools=['firecrawl', 'threads', 'time'], id='a1t4dsh', created='2025-03-08T18:26:23-08:00', revision='68', links=AgentLinks(invoke='http://localhost:8080/api/invoke/a1t4dsh'), type='agent', icons=None, default=False, temperature=None, cache=None, alias='', knowledgeDescription='', agents=None, workflows=None, availableThreadTools=[], defaultThreadTools=[], oauthApps=[], maxThreadTools=0, params=None, env=None, aliasAssigned=False, toolInfo={'firecrawl': {'credentialNames': ['firecrawl'], 'authorized': True}, 'threads': {'authorized': True}, 'time': {'authorized': True}})"
      ]
     },
     "execution_count": 7,
     "metadata": {},
     "output_type": "execute_result"
    }
   ],
   "source": [
    "# Get a specific agent\n",
    "agent = client.agents.get(\"a1t4dsh\")\n",
    "agent"
   ]
  },
  {
   "cell_type": "code",
   "execution_count": null,
   "metadata": {},
   "outputs": [],
   "source": [
    "new_agent = client.agents.create(\n",
    "    name=\"Test Agent\",\n",
    "    description=\"A test agent\",\n",
    "    prompt=\"You are a helpful assistant\",\n",
    "    model=\"grok-beta\",  # Will be converted to model ID\n",
    "    tools=[\"google-search-bundle\", \"slack-send-message\"],  # Tool IDs will be validated\n",
    ")\n",
    "new_agent"
   ]
  },
  {
   "cell_type": "code",
   "execution_count": 3,
   "metadata": {},
   "outputs": [],
   "source": [
    "updated_agent = client.agents.update(\n",
    "    new_agent.id,\n",
    "    tools=[\"google-search-bundle\", \"time-bundle\"],  # Tool IDs will be validated\n",
    ")"
   ]
  },
  {
   "cell_type": "code",
   "execution_count": 10,
   "metadata": {},
   "outputs": [],
   "source": [
    "# Only update specific fields\n",
    "updated_name = client.agents.update_agent(\n",
    "    id=\"a1kkgtk\",\n",
    "    name=\"New Name Only\",  # Only the name will be updated, other fields remain unchanged\n",
    ")"
   ]
  },
  {
   "cell_type": "markdown",
   "metadata": {},
   "source": [
    "---\n",
    "\n",
    "### Threads"
   ]
  },
  {
   "cell_type": "code",
   "execution_count": 1,
   "metadata": {},
   "outputs": [],
   "source": [
    "from obot.sync_client import ObotClient\n",
    "\n",
    "client = ObotClient(base_url=\"http://localhost:8080\", token=\"your-token\")"
   ]
  },
  {
   "cell_type": "code",
   "execution_count": 9,
   "metadata": {},
   "outputs": [
    {
     "name": "stdout",
     "output_type": "stream",
     "text": [
      "# NBA Schedule for Today (March 9, 2025)\n",
      "\n",
      "Based on the information from ESPN's NBA scoreboard, here is the complete NBA schedule for today, March 9, 2025. The schedule includes eight games with various start times throughout the day.\n",
      "\n",
      "## Morning Games\n",
      "\n",
      "### Denver Nuggets vs. Oklahoma City Thunder\n",
      "- **Time**: 8:00 AM (Pacific Time)\n",
      "- **Location**: Paycom Center, Oklahoma City, OK\n",
      "- **TV Coverage**: ABC, ESPN+\n",
      "- **Teams Records**: \n",
      "  - Nuggets: 41-22 (19-13 Away)\n",
      "  - Thunder: 52-11 (27-4 Home)\n",
      "- **Key Players to Watch**:\n",
      "  - Nikola Jokic (DEN): 28.9 PPG, 12.9 RPG, 10.6 APG\n",
      "  - Shai Gilgeous-Alexander (OKC): 32.8 PPG, 5.1 RPG, 6.2 APG\n",
      "- **Betting Line**: Thunder -7.5, Total: 243.5\n",
      "- **Links**: [Gamecast](https://www.espn.com/nba/game/_/gameId/401705486/nuggets-thunder), [Tickets](https://www.vividseats.com/oklahoma-city-thunder-tickets-paycom-center-3-9-2025--sports-nba-basketball/production/5159906?wsUser=717&wsVar=us~NBA~scoreboard,NBA,en)\n",
      "\n",
      "### Phoenix Suns vs. Dallas Mavericks\n",
      "- **Time**: 10:30 AM (Pacific Time)\n",
      "- **Location**: American Airlines Center, Dallas, TX\n",
      "- **TV Coverage**: ABC, ESPN+\n",
      "- **Teams Records**: \n",
      "  - Suns: 29-34 (11-21 Away)\n",
      "  - Mavericks: 32-32 (19-14 Home)\n",
      "- **Key Players to Watch**:\n",
      "  - Kevin Durant (PHX): 26.9 PPG, 6.1 RPG, 4.3 APG\n",
      "  - Max Christie (DAL): 12.6 PPG, 4.1 RPG, 3.3 APG\n",
      "- **Betting Line**: Suns -7.5, Total: 228.5\n",
      "- **Links**: [Gamecast](https://www.espn.com/nba/game/_/gameId/401705487/suns-mavericks), [Tickets](https://www.vividseats.com/dallas-mavericks-tickets-american-airlines-center---tx-3-9-2025--sports-nba-basketball/production/5159425?wsUser=717&wsVar=us~NBA~scoreboard,NBA,en)\n",
      "\n",
      "## Afternoon Games\n",
      "\n",
      "### Memphis Grizzlies vs. New Orleans Pelicans\n",
      "- **Time**: 2:00 PM (Pacific Time)\n",
      "- **Location**: Smoothie King Center, New Orleans, LA\n",
      "- **Teams Records**: \n",
      "  - Grizzlies: 39-24 (17-14 Away)\n",
      "  - Pelicans: 17-47 (11-20 Home)\n",
      "- **Key Players to Watch**:\n",
      "  - Ja Morant (MEM): 21.2 PPG, 4.1 RPG, 7.4 APG\n",
      "  - Zion Williamson (NO): 24.5 PPG, 7.2 RPG, 5.0 APG\n",
      "- **Betting Line**: Grizzlies -9.5, Total: 238.5\n",
      "- **Links**: [Gamecast](https://www.espn.com/nba/game/_/gameId/401705489/grizzlies-pelicans), [Tickets](https://www.vividseats.com/new-orleans-pelicans-tickets-smoothie-king-center-3-9-2025--sports-nba-basketball/production/5159451?wsUser=717&wsVar=us~NBA~scoreboard,NBA,en)\n",
      "\n",
      "### Utah Jazz vs. Philadelphia 76ers\n",
      "- **Time**: 2:30 PM (Pacific Time)\n",
      "- **Location**: Wells Fargo Center, Philadelphia, PA\n",
      "- **Teams Records**:\n"
     ]
    }
   ],
   "source": [
    "conv = client.chat(\n",
    "    \"a1t4dsh\",\n",
    "    \"what is the nba schedule today according to https://www.espn.com/nba/scoreboard\",\n",
    ")\n",
    "print(conv)  # prints \"Hello! How can I assist you today?\"\n",
    "\n",
    "# print(conv.chat(\"What's 2+2?\")) # prints \"2 + 2 equals 4. Is there anything else you'd like to know or any other way I can help?\""
   ]
  },
  {
   "cell_type": "code",
   "execution_count": null,
   "metadata": {},
   "outputs": [],
   "source": [
    "conv"
   ]
  },
  {
   "cell_type": "code",
   "execution_count": null,
   "metadata": {},
   "outputs": [],
   "source": [
    "response = conv.chat(\"what was my first message?\")\n",
    "print(response)\n",
    "response\n"
   ]
  },
  {
   "cell_type": "code",
   "execution_count": null,
   "metadata": {},
   "outputs": [],
   "source": [
    "conv.chat(\"okay\")"
   ]
  },
  {
   "cell_type": "code",
   "execution_count": null,
   "metadata": {},
   "outputs": [],
   "source": [
    "client.tools()"
   ]
  },
  {
   "cell_type": "code",
   "execution_count": null,
   "metadata": {},
   "outputs": [],
   "source": [
    "client.tools.categories()"
   ]
  },
  {
   "cell_type": "code",
   "execution_count": null,
   "metadata": {},
   "outputs": [],
   "source": []
  }
 ],
 "metadata": {
  "kernelspec": {
   "display_name": "obot-python-SH70REwZ-py3.11",
   "language": "python",
   "name": "python3"
  },
  "language_info": {
   "codemirror_mode": {
    "name": "ipython",
    "version": 3
   },
   "file_extension": ".py",
   "mimetype": "text/x-python",
   "name": "python",
   "nbconvert_exporter": "python",
   "pygments_lexer": "ipython3",
   "version": "3.11.7"
  }
 },
 "nbformat": 4,
 "nbformat_minor": 2
}
